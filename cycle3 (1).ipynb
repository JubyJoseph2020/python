{
  "nbformat": 4,
  "nbformat_minor": 0,
  "metadata": {
    "colab": {
      "name": "cycle3.ipynb",
      "provenance": [],
      "collapsed_sections": []
    },
    "kernelspec": {
      "name": "python3",
      "display_name": "Python 3"
    }
  },
  "cells": [
    {
      "cell_type": "code",
      "metadata": {
        "id": "kfTuTbiKY5ty",
        "colab": {
          "base_uri": "https://localhost:8080/"
        },
        "outputId": "acc38df8-d171-4977-d76c-bee4a10479cc"
      },
      "source": [
        "print('Hello, world!')"
      ],
      "execution_count": null,
      "outputs": [
        {
          "output_type": "stream",
          "text": [
            "Hello, world!\n"
          ],
          "name": "stdout"
        }
      ]
    },
    {
      "cell_type": "code",
      "metadata": {
        "id": "zKq8SxuBfQBM",
        "colab": {
          "base_uri": "https://localhost:8080/"
        },
        "outputId": "aba30964-654a-4fc6-e8ee-21cd892a5a25"
      },
      "source": [
        "num=int(input(\"Enter the integer: \"))\r\n",
        "print(\"You entered\",num)"
      ],
      "execution_count": null,
      "outputs": [
        {
          "output_type": "stream",
          "text": [
            "Enter the integer: 6\n",
            "You entered 6\n"
          ],
          "name": "stdout"
        }
      ]
    },
    {
      "cell_type": "code",
      "metadata": {
        "colab": {
          "base_uri": "https://localhost:8080/"
        },
        "id": "XfmvzUiSgVg1",
        "outputId": "92cb7890-a42c-416e-84ee-b683451955ce"
      },
      "source": [
        "x = 5\r\n",
        "y = 10\r\n",
        "print(x + y)"
      ],
      "execution_count": null,
      "outputs": [
        {
          "output_type": "stream",
          "text": [
            "15\n"
          ],
          "name": "stdout"
        }
      ]
    },
    {
      "cell_type": "code",
      "metadata": {
        "colab": {
          "base_uri": "https://localhost:8080/"
        },
        "id": "9Mhuh8ZPmWnO",
        "outputId": "f4d957f1-4b34-41cc-9189-49c521f71979"
      },
      "source": [
        "def find(n, m): \r\n",
        "      \r\n",
        "    \r\n",
        "    q = n//m \r\n",
        "    print(\"Quotient: \", q) \r\n",
        "      \r\n",
        "    \r\n",
        "    r = n%m \r\n",
        "    print(\"Remainder\", r) \r\n",
        "      \r\n",
        "\r\n",
        "find(10, 3) \r\n",
        "find(99, 5)"
      ],
      "execution_count": null,
      "outputs": [
        {
          "output_type": "stream",
          "text": [
            "Quotient:  3\n",
            "Remainder 1\n",
            "Quotient:  19\n",
            "Remainder 4\n"
          ],
          "name": "stdout"
        }
      ]
    },
    {
      "cell_type": "code",
      "metadata": {
        "colab": {
          "base_uri": "https://localhost:8080/"
        },
        "id": "Y8ztZoaXml9Y",
        "outputId": "bae101da-93a3-43f3-bb56-047263a2a571"
      },
      "source": [
        "x = 5\r\n",
        "y = 10\r\n",
        "temp = x\r\n",
        "x = y\r\n",
        "y = temp\r\n",
        "\r\n",
        "print('The value of x after swapping: {}'.format(x))\r\n",
        "print('The value of y after swapping: {}'.format(y))"
      ],
      "execution_count": null,
      "outputs": [
        {
          "output_type": "stream",
          "text": [
            "The value of x after swapping: 10\n",
            "The value of y after swapping: 5\n"
          ],
          "name": "stdout"
        }
      ]
    },
    {
      "cell_type": "code",
      "metadata": {
        "colab": {
          "base_uri": "https://localhost:8080/"
        },
        "id": "QjY050tTmnxB",
        "outputId": "f73187fc-c12b-4a85-d295-7ec5944c9bb5"
      },
      "source": [
        "num = int(input(\"Enter a number: \"))\r\n",
        "if (num % 2) == 0:\r\n",
        "   print(\"{0} is Even\".format(num))\r\n",
        "else:\r\n",
        "   print(\"{0} is Odd\".format(num))"
      ],
      "execution_count": null,
      "outputs": [
        {
          "output_type": "stream",
          "text": [
            "Enter a number: 2\n",
            "2 is Even\n"
          ],
          "name": "stdout"
        }
      ]
    },
    {
      "cell_type": "code",
      "metadata": {
        "colab": {
          "base_uri": "https://localhost:8080/"
        },
        "id": "C5H1Hxzim3z7",
        "outputId": "2a77a7b8-c533-420b-f4ea-1adc7b230268"
      },
      "source": [
        "ch = input(\"Enter a character: \")\r\n",
        "\r\n",
        "if(ch=='A' or ch=='a' or ch=='E' or ch =='e' or ch=='I'\r\n",
        " or ch=='i' or ch=='O' or ch=='o' or ch=='U' or ch=='u'):\r\n",
        "    print(ch, \"is a Vowel\")\r\n",
        "else:\r\n",
        "    print(ch, \"is a Consonant\")"
      ],
      "execution_count": null,
      "outputs": [
        {
          "output_type": "stream",
          "text": [
            "Enter a character: english\n",
            "english is a Consonant\n"
          ],
          "name": "stdout"
        }
      ]
    },
    {
      "cell_type": "code",
      "metadata": {
        "colab": {
          "base_uri": "https://localhost:8080/"
        },
        "id": "MqiYBZetnEMr",
        "outputId": "0ddf6595-fe5f-426f-b416-73d29fa0166f"
      },
      "source": [
        "num1=float(input(\"Enter first number: \"))\r\n",
        "#input value for variable num1\r\n",
        "num2=float(input(\"Enter second number: \"))\r\n",
        "#input value for variable num2\r\n",
        "mul=num1*num2;\r\n",
        "#perform multiplication operation\r\n",
        "print(\"the product of given numbers is:\",mul)\r\n",
        "#display the product"
      ],
      "execution_count": null,
      "outputs": [
        {
          "output_type": "stream",
          "text": [
            "Enter first number: 1.2\n",
            "Enter second number: 1.3\n",
            "the product of given numbers is: 1.56\n"
          ],
          "name": "stdout"
        }
      ]
    },
    {
      "cell_type": "code",
      "metadata": {
        "colab": {
          "base_uri": "https://localhost:8080/"
        },
        "id": "7VpSHLXcnVV0",
        "outputId": "c9482968-d846-441f-8030-2219da86c6da"
      },
      "source": [
        "num1 = float(input(\"Enter first number: \"))\r\n",
        "num2 = float(input(\"Enter second number: \"))\r\n",
        "num3 = float(input(\"Enter third number: \"))\r\n",
        " \r\n",
        "if (num1 > num2) and (num1 > num3):\r\n",
        "   largest = num1\r\n",
        "elif (num2 > num1) and (num2 > num3):\r\n",
        "   largest = num2\r\n",
        "else:\r\n",
        "   largest = num3\r\n",
        " \r\n",
        "print(\"The largest number is\",largest)"
      ],
      "execution_count": null,
      "outputs": [
        {
          "output_type": "stream",
          "text": [
            "Enter first number: 2\n",
            "Enter second number: 4\n",
            "Enter third number: 7\n",
            "The largest number is 7.0\n"
          ],
          "name": "stdout"
        }
      ]
    },
    {
      "cell_type": "code",
      "metadata": {
        "colab": {
          "base_uri": "https://localhost:8080/"
        },
        "id": "-vC6BcXfn64M",
        "outputId": "cc0a0d0e-513b-4b2d-97a9-b3651ed936e7"
      },
      "source": [
        "year = 2000\r\n",
        "if (year % 4) == 0:\r\n",
        "   if (year % 100) == 0:\r\n",
        "       if (year % 400) == 0:\r\n",
        "           print(\"{0} is a leap year\".format(year))\r\n",
        "       else:\r\n",
        "           print(\"{0} is not a leap year\".format(year))\r\n",
        "   else:\r\n",
        "       print(\"{0} is a leap year\".format(year))\r\n",
        "else:\r\n",
        "   print(\"{0} is not a leap year\".format(year))"
      ],
      "execution_count": null,
      "outputs": [
        {
          "output_type": "stream",
          "text": [
            "2000 is a leap year\n"
          ],
          "name": "stdout"
        }
      ]
    },
    {
      "cell_type": "code",
      "metadata": {
        "colab": {
          "base_uri": "https://localhost:8080/"
        },
        "id": "SbUNOU4xoANV",
        "outputId": "7c86fb55-19e5-4df2-f102-3714ced574d9"
      },
      "source": [
        "num = float(input(\"Enter a number: \"))\r\n",
        "if num > 0:\r\n",
        "   print(\"Positive number\")\r\n",
        "else:\r\n",
        "   print(\"Negative number\")"
      ],
      "execution_count": null,
      "outputs": [
        {
          "output_type": "stream",
          "text": [
            "Enter a number: 40\n",
            "Positive number\n"
          ],
          "name": "stdout"
        }
      ]
    },
    {
      "cell_type": "code",
      "metadata": {
        "colab": {
          "base_uri": "https://localhost:8080/"
        },
        "id": "R22KKoX3oHnq",
        "outputId": "1d0609bf-f3b1-4f39-fdc6-fc0fdaf31942"
      },
      "source": [
        "num = 16\r\n",
        "\r\n",
        "if num < 0:\r\n",
        "   print(\"Enter a positive number\")\r\n",
        "else:\r\n",
        "   sum = 0\r\n",
        "   # use while loop to iterate until zero\r\n",
        "   while(num > 0):\r\n",
        "       sum += num\r\n",
        "       num -= 1\r\n",
        "   print(\"The sum is\", sum)"
      ],
      "execution_count": null,
      "outputs": [
        {
          "output_type": "stream",
          "text": [
            "The sum is 136\n"
          ],
          "name": "stdout"
        }
      ]
    },
    {
      "cell_type": "code",
      "metadata": {
        "colab": {
          "base_uri": "https://localhost:8080/"
        },
        "id": "41zmIbhporwH",
        "outputId": "cf55c238-0bc7-443d-a3cc-1d53979568e5"
      },
      "source": [
        "num = 7\r\n",
        "\r\n",
        "factorial = 1\r\n",
        "\r\n",
        "if num < 0:\r\n",
        "   print(\"Sorry, factorial does not exist for negative numbers\")\r\n",
        "elif num == 0:\r\n",
        "   print(\"The factorial of 0 is 1\")\r\n",
        "else:\r\n",
        "   for i in range(1,num + 1):\r\n",
        "       factorial = factorial*i\r\n",
        "   print(\"The factorial of\",num,\"is\",factorial)"
      ],
      "execution_count": null,
      "outputs": [
        {
          "output_type": "stream",
          "text": [
            "The factorial of 7 is 5040\n"
          ],
          "name": "stdout"
        }
      ]
    },
    {
      "cell_type": "code",
      "metadata": {
        "colab": {
          "base_uri": "https://localhost:8080/"
        },
        "id": "TbR_s_oFotV7",
        "outputId": "3658d98c-c143-4abc-ab50-c856abf21cea"
      },
      "source": [
        "num = 2\r\n",
        "for i in range(1, 11):\r\n",
        "   print(num, 'x', i, '=', num*i)"
      ],
      "execution_count": null,
      "outputs": [
        {
          "output_type": "stream",
          "text": [
            "2 x 1 = 2\n",
            "2 x 2 = 4\n",
            "2 x 3 = 6\n",
            "2 x 4 = 8\n",
            "2 x 5 = 10\n",
            "2 x 6 = 12\n",
            "2 x 7 = 14\n",
            "2 x 8 = 16\n",
            "2 x 9 = 18\n",
            "2 x 10 = 20\n"
          ],
          "name": "stdout"
        }
      ]
    },
    {
      "cell_type": "code",
      "metadata": {
        "colab": {
          "base_uri": "https://localhost:8080/"
        },
        "id": "dy_5Ol0No4PU",
        "outputId": "9f86e079-3cd1-4826-be4a-14992fe34e61"
      },
      "source": [
        "nterms = int(input(\"How many terms? \"))\r\n",
        "\r\n",
        "\r\n",
        "n1, n2 = 0, 1\r\n",
        "count = 0\r\n",
        "\r\n",
        "\r\n",
        "if nterms <= 0:\r\n",
        "   print(\"Please enter a positive integer\")\r\n",
        "elif nterms == 1:\r\n",
        "   print(\"Fibonacci sequence upto\",nterms,\":\")\r\n",
        "   print(n1)\r\n",
        "else:\r\n",
        "   print(\"Fibonacci sequence:\")\r\n",
        "   while count < nterms:\r\n",
        "       print(n1)\r\n",
        "       nth = n1 + n2\r\n",
        "      \r\n",
        "       n1 = n2\r\n",
        "       n2 = nth\r\n",
        "       count += 1"
      ],
      "execution_count": null,
      "outputs": [
        {
          "output_type": "stream",
          "text": [
            "How many terms? 3\n",
            "Fibonacci sequence:\n",
            "0\n",
            "1\n",
            "1\n"
          ],
          "name": "stdout"
        }
      ]
    },
    {
      "cell_type": "code",
      "metadata": {
        "colab": {
          "base_uri": "https://localhost:8080/"
        },
        "id": "JethAMo_pFR9",
        "outputId": "8290255b-282e-4a37-c58c-81f6729bd3a7"
      },
      "source": [
        "def compute_lcm(x, y):\r\n",
        "\r\n",
        "  \r\n",
        "   if x > y:\r\n",
        "       greater = x\r\n",
        "   else:\r\n",
        "       greater = y\r\n",
        "\r\n",
        "   while(True):\r\n",
        "       if((greater % x == 0) and (greater % y == 0)):\r\n",
        "           lcm = greater\r\n",
        "           break\r\n",
        "       greater += 1\r\n",
        "\r\n",
        "   return lcm\r\n",
        "\r\n",
        "num1 = 54\r\n",
        "num2 = 24\r\n",
        "\r\n",
        "print(\"The L.C.M. is\", compute_lcm(num1, num2))"
      ],
      "execution_count": null,
      "outputs": [
        {
          "output_type": "stream",
          "text": [
            "The L.C.M. is 216\n"
          ],
          "name": "stdout"
        }
      ]
    },
    {
      "cell_type": "code",
      "metadata": {
        "colab": {
          "base_uri": "https://localhost:8080/"
        },
        "id": "oX3tnL0rpOFc",
        "outputId": "73cf58bf-6836-4164-b6bc-0f50b1917ca7"
      },
      "source": [
        "num = int(input(\"Enter a numer \\n\"))\r\n",
        "count = 0\r\n",
        " \r\n",
        "\r\n",
        "while num>0:\r\n",
        "    count +=1\r\n",
        "    num = num//10;\r\n",
        "    \r\n",
        "print(\"Number of Digits: %d\"%count)"
      ],
      "execution_count": null,
      "outputs": [
        {
          "output_type": "stream",
          "text": [
            "Enter a numer \n",
            "124\n",
            "Number of Digits: 3\n"
          ],
          "name": "stdout"
        }
      ]
    },
    {
      "cell_type": "code",
      "metadata": {
        "colab": {
          "base_uri": "https://localhost:8080/"
        },
        "id": "tb3qaU7kpRA8",
        "outputId": "338878e2-7557-4c86-d2aa-cfc744d27750"
      },
      "source": [
        "number = int(input(\"Enter the integer number: \"))  \r\n",
        "  \r\n",
        "\r\n",
        "revs_number = 0  \r\n",
        "  \r\n",
        "\r\n",
        "  \r\n",
        "while (number > 0):  \r\n",
        "  \r\n",
        "    remainder = number % 10  \r\n",
        "    revs_number = (revs_number * 10) + remainder  \r\n",
        "    number = number // 10  \r\n",
        "  \r\n",
        "\r\n",
        "print(\"The reverse number is : {}\".format(revs_number))  "
      ],
      "execution_count": null,
      "outputs": [
        {
          "output_type": "stream",
          "text": [
            "Enter the integer number: 514\n",
            "The reverse number is : 415\n"
          ],
          "name": "stdout"
        }
      ]
    },
    {
      "cell_type": "code",
      "metadata": {
        "colab": {
          "base_uri": "https://localhost:8080/"
        },
        "id": "fOXo1gOZpdwg",
        "outputId": "d0e475c3-5a40-4fd7-be1b-71635ded9624"
      },
      "source": [
        "import math\r\n",
        "\r\n",
        "base_number = float(input(\"Enter the base number\"))\r\n",
        "exponent = float(input(\"Enter the exponent\"))\r\n",
        "\r\n",
        "power = math.pow(base_number,exponent)\r\n",
        "print(\"Power is =\",power)"
      ],
      "execution_count": null,
      "outputs": [
        {
          "output_type": "stream",
          "text": [
            "Enter the base number4\n",
            "Enter the exponent2\n",
            "Power is = 16.0\n"
          ],
          "name": "stdout"
        }
      ]
    },
    {
      "cell_type": "code",
      "metadata": {
        "colab": {
          "base_uri": "https://localhost:8080/"
        },
        "id": "fVcZ3USspj7X",
        "outputId": "474f36f2-f56e-4301-c215-4700c40b4108"
      },
      "source": [
        "n=int(input(\"Enter number:\"))\r\n",
        "temp=n\r\n",
        "rev=0\r\n",
        "while(n>0):\r\n",
        "    dig=n%10\r\n",
        "    rev=rev*10+dig\r\n",
        "    n=n//10\r\n",
        "if(temp==rev):\r\n",
        "    print(\"The number is a palindrome\")\r\n",
        "else:\r\n",
        "    print(\"The number isn't a palindrome\")"
      ],
      "execution_count": null,
      "outputs": [
        {
          "output_type": "stream",
          "text": [
            "Enter number:111\n",
            "The number is a palindrome\n"
          ],
          "name": "stdout"
        }
      ]
    }
  ]
}